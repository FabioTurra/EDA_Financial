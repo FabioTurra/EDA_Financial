{
 "cells": [
  {
   "attachments": {},
   "cell_type": "markdown",
   "metadata": {},
   "source": [
    "# EDA Financial Statements"
   ]
  },
  {
   "attachments": {},
   "cell_type": "markdown",
   "metadata": {},
   "source": [
    "### 1. Manipulação"
   ]
  },
  {
   "attachments": {},
   "cell_type": "markdown",
   "metadata": {},
   "source": [
    "#### 1.1 Imports"
   ]
  },
  {
   "cell_type": "code",
   "execution_count": 1,
   "metadata": {},
   "outputs": [],
   "source": [
    "import pandas as pd\n",
    "import sqlite3"
   ]
  },
  {
   "attachments": {},
   "cell_type": "markdown",
   "metadata": {},
   "source": [
    "#### 1.2 Coleta"
   ]
  },
  {
   "cell_type": "code",
   "execution_count": 2,
   "metadata": {},
   "outputs": [
    {
     "data": {
      "text/html": [
       "<div>\n",
       "<style scoped>\n",
       "    .dataframe tbody tr th:only-of-type {\n",
       "        vertical-align: middle;\n",
       "    }\n",
       "\n",
       "    .dataframe tbody tr th {\n",
       "        vertical-align: top;\n",
       "    }\n",
       "\n",
       "    .dataframe thead th {\n",
       "        text-align: right;\n",
       "    }\n",
       "</style>\n",
       "<table border=\"1\" class=\"dataframe\">\n",
       "  <thead>\n",
       "    <tr style=\"text-align: right;\">\n",
       "      <th></th>\n",
       "      <th>Year</th>\n",
       "      <th>Company</th>\n",
       "      <th>Category</th>\n",
       "      <th>Market Cap(in B USD)</th>\n",
       "      <th>Revenue</th>\n",
       "      <th>Gross Profit</th>\n",
       "      <th>Net Income</th>\n",
       "      <th>Earning Per Share</th>\n",
       "      <th>EBITDA</th>\n",
       "      <th>Share Holder Equity</th>\n",
       "      <th>...</th>\n",
       "      <th>Current Ratio</th>\n",
       "      <th>Debt/Equity Ratio</th>\n",
       "      <th>ROE</th>\n",
       "      <th>ROA</th>\n",
       "      <th>ROI</th>\n",
       "      <th>Net Profit Margin</th>\n",
       "      <th>Free Cash Flow per Share</th>\n",
       "      <th>Return on Tangible Equity</th>\n",
       "      <th>Number of Employees</th>\n",
       "      <th>Inflation Rate(in US)</th>\n",
       "    </tr>\n",
       "  </thead>\n",
       "  <tbody>\n",
       "    <tr>\n",
       "      <th>0</th>\n",
       "      <td>2022</td>\n",
       "      <td>AAPL</td>\n",
       "      <td>IT</td>\n",
       "      <td>2066.94</td>\n",
       "      <td>394328.0</td>\n",
       "      <td>170782.0</td>\n",
       "      <td>99803.0</td>\n",
       "      <td>6.11</td>\n",
       "      <td>130541.0</td>\n",
       "      <td>50672.0</td>\n",
       "      <td>...</td>\n",
       "      <td>0.8794</td>\n",
       "      <td>2.3695</td>\n",
       "      <td>196.9589</td>\n",
       "      <td>28.2924</td>\n",
       "      <td>66.6994</td>\n",
       "      <td>25.3096</td>\n",
       "      <td>1.3146</td>\n",
       "      <td>196.9589</td>\n",
       "      <td>164000</td>\n",
       "      <td>8.0028</td>\n",
       "    </tr>\n",
       "    <tr>\n",
       "      <th>1</th>\n",
       "      <td>2021</td>\n",
       "      <td>AAPL</td>\n",
       "      <td>IT</td>\n",
       "      <td>2913.28</td>\n",
       "      <td>365817.0</td>\n",
       "      <td>152836.0</td>\n",
       "      <td>94680.0</td>\n",
       "      <td>5.61</td>\n",
       "      <td>120233.0</td>\n",
       "      <td>63090.0</td>\n",
       "      <td>...</td>\n",
       "      <td>1.0746</td>\n",
       "      <td>1.9768</td>\n",
       "      <td>150.0713</td>\n",
       "      <td>26.9742</td>\n",
       "      <td>54.9839</td>\n",
       "      <td>25.8818</td>\n",
       "      <td>1.3261</td>\n",
       "      <td>150.0713</td>\n",
       "      <td>154000</td>\n",
       "      <td>4.6979</td>\n",
       "    </tr>\n",
       "    <tr>\n",
       "      <th>2</th>\n",
       "      <td>2020</td>\n",
       "      <td>AAPL</td>\n",
       "      <td>IT</td>\n",
       "      <td>2255.97</td>\n",
       "      <td>274515.0</td>\n",
       "      <td>104956.0</td>\n",
       "      <td>57411.0</td>\n",
       "      <td>3.28</td>\n",
       "      <td>77344.0</td>\n",
       "      <td>65339.0</td>\n",
       "      <td>...</td>\n",
       "      <td>1.3636</td>\n",
       "      <td>1.7208</td>\n",
       "      <td>87.8664</td>\n",
       "      <td>17.7256</td>\n",
       "      <td>35.0054</td>\n",
       "      <td>20.9136</td>\n",
       "      <td>1.0183</td>\n",
       "      <td>87.8664</td>\n",
       "      <td>147000</td>\n",
       "      <td>1.2336</td>\n",
       "    </tr>\n",
       "    <tr>\n",
       "      <th>3</th>\n",
       "      <td>2019</td>\n",
       "      <td>AAPL</td>\n",
       "      <td>IT</td>\n",
       "      <td>1304.76</td>\n",
       "      <td>260174.0</td>\n",
       "      <td>98392.0</td>\n",
       "      <td>55256.0</td>\n",
       "      <td>2.97</td>\n",
       "      <td>76477.0</td>\n",
       "      <td>90488.0</td>\n",
       "      <td>...</td>\n",
       "      <td>1.5401</td>\n",
       "      <td>1.1940</td>\n",
       "      <td>61.0645</td>\n",
       "      <td>16.3230</td>\n",
       "      <td>30.3113</td>\n",
       "      <td>21.2381</td>\n",
       "      <td>-0.0388</td>\n",
       "      <td>61.0645</td>\n",
       "      <td>137000</td>\n",
       "      <td>1.8122</td>\n",
       "    </tr>\n",
       "    <tr>\n",
       "      <th>4</th>\n",
       "      <td>2018</td>\n",
       "      <td>AAPL</td>\n",
       "      <td>IT</td>\n",
       "      <td>748.54</td>\n",
       "      <td>265595.0</td>\n",
       "      <td>101839.0</td>\n",
       "      <td>59531.0</td>\n",
       "      <td>2.98</td>\n",
       "      <td>81801.0</td>\n",
       "      <td>107147.0</td>\n",
       "      <td>...</td>\n",
       "      <td>1.1329</td>\n",
       "      <td>1.0685</td>\n",
       "      <td>55.5601</td>\n",
       "      <td>16.2775</td>\n",
       "      <td>29.6348</td>\n",
       "      <td>22.4142</td>\n",
       "      <td>0.7414</td>\n",
       "      <td>55.5601</td>\n",
       "      <td>132000</td>\n",
       "      <td>2.4426</td>\n",
       "    </tr>\n",
       "  </tbody>\n",
       "</table>\n",
       "<p>5 rows × 23 columns</p>\n",
       "</div>"
      ],
      "text/plain": [
       "   Year Company  Category  Market Cap(in B USD)   Revenue  Gross Profit  \\\n",
       "0  2022     AAPL       IT               2066.94  394328.0      170782.0   \n",
       "1  2021     AAPL       IT               2913.28  365817.0      152836.0   \n",
       "2  2020     AAPL       IT               2255.97  274515.0      104956.0   \n",
       "3  2019     AAPL       IT               1304.76  260174.0       98392.0   \n",
       "4  2018     AAPL       IT                748.54  265595.0      101839.0   \n",
       "\n",
       "   Net Income  Earning Per Share    EBITDA  Share Holder Equity  ...  \\\n",
       "0     99803.0               6.11  130541.0              50672.0  ...   \n",
       "1     94680.0               5.61  120233.0              63090.0  ...   \n",
       "2     57411.0               3.28   77344.0              65339.0  ...   \n",
       "3     55256.0               2.97   76477.0              90488.0  ...   \n",
       "4     59531.0               2.98   81801.0             107147.0  ...   \n",
       "\n",
       "   Current Ratio  Debt/Equity Ratio       ROE      ROA      ROI  \\\n",
       "0         0.8794             2.3695  196.9589  28.2924  66.6994   \n",
       "1         1.0746             1.9768  150.0713  26.9742  54.9839   \n",
       "2         1.3636             1.7208   87.8664  17.7256  35.0054   \n",
       "3         1.5401             1.1940   61.0645  16.3230  30.3113   \n",
       "4         1.1329             1.0685   55.5601  16.2775  29.6348   \n",
       "\n",
       "   Net Profit Margin  Free Cash Flow per Share  Return on Tangible Equity  \\\n",
       "0            25.3096                    1.3146                   196.9589   \n",
       "1            25.8818                    1.3261                   150.0713   \n",
       "2            20.9136                    1.0183                    87.8664   \n",
       "3            21.2381                   -0.0388                    61.0645   \n",
       "4            22.4142                    0.7414                    55.5601   \n",
       "\n",
       "   Number of Employees  Inflation Rate(in US)  \n",
       "0               164000                 8.0028  \n",
       "1               154000                 4.6979  \n",
       "2               147000                 1.2336  \n",
       "3               137000                 1.8122  \n",
       "4               132000                 2.4426  \n",
       "\n",
       "[5 rows x 23 columns]"
      ]
     },
     "execution_count": 2,
     "metadata": {},
     "output_type": "execute_result"
    }
   ],
   "source": [
    "df = pd.read_csv('Financial Statements.csv')\n",
    "df.head()"
   ]
  },
  {
   "attachments": {},
   "cell_type": "markdown",
   "metadata": {},
   "source": [
    "#### 1.3 Tratamento"
   ]
  },
  {
   "attachments": {},
   "cell_type": "markdown",
   "metadata": {},
   "source": [
    "Nulos"
   ]
  },
  {
   "cell_type": "code",
   "execution_count": 3,
   "metadata": {},
   "outputs": [
    {
     "data": {
      "text/plain": [
       "Year                                   0\n",
       "Company                                0\n",
       "Category                               0\n",
       "Market Cap(in B USD)                   1\n",
       "Revenue                                0\n",
       "Gross Profit                           0\n",
       "Net Income                             0\n",
       "Earning Per Share                      0\n",
       "EBITDA                                 0\n",
       "Share Holder Equity                    0\n",
       "Cash Flow from Operating               0\n",
       "Cash Flow from Investing               0\n",
       "Cash Flow from Financial Activities    0\n",
       "Current Ratio                          0\n",
       "Debt/Equity Ratio                      0\n",
       "ROE                                    0\n",
       "ROA                                    0\n",
       "ROI                                    0\n",
       "Net Profit Margin                      0\n",
       "Free Cash Flow per Share               0\n",
       "Return on Tangible Equity              0\n",
       "Number of Employees                    0\n",
       "Inflation Rate(in US)                  0\n",
       "dtype: int64"
      ]
     },
     "execution_count": 3,
     "metadata": {},
     "output_type": "execute_result"
    }
   ],
   "source": [
    "df.isnull().sum()"
   ]
  },
  {
   "cell_type": "code",
   "execution_count": 4,
   "metadata": {},
   "outputs": [],
   "source": [
    "df.dropna(subset='Market Cap(in B USD)', inplace=True)"
   ]
  },
  {
   "attachments": {},
   "cell_type": "markdown",
   "metadata": {},
   "source": [
    "Duplicados"
   ]
  },
  {
   "cell_type": "code",
   "execution_count": 5,
   "metadata": {},
   "outputs": [
    {
     "data": {
      "text/plain": [
       "0"
      ]
     },
     "execution_count": 5,
     "metadata": {},
     "output_type": "execute_result"
    }
   ],
   "source": [
    "df.duplicated().sum()"
   ]
  },
  {
   "attachments": {},
   "cell_type": "markdown",
   "metadata": {},
   "source": [
    "Checando Colunas Categóricas"
   ]
  },
  {
   "attachments": {},
   "cell_type": "markdown",
   "metadata": {},
   "source": [
    "Category"
   ]
  },
  {
   "cell_type": "code",
   "execution_count": 6,
   "metadata": {},
   "outputs": [
    {
     "data": {
      "text/plain": [
       "array(['IT', 'FinTech', 'Bank', 'Manufacturing', 'Finance', 'FOOD',\n",
       "       'BANK', 'ELEC', 'LOGI'], dtype=object)"
      ]
     },
     "execution_count": 6,
     "metadata": {},
     "output_type": "execute_result"
    }
   ],
   "source": [
    "df['Category'].unique()"
   ]
  },
  {
   "cell_type": "code",
   "execution_count": 7,
   "metadata": {},
   "outputs": [],
   "source": [
    "# Corrigindo os valores \"Bank\" e \"BANK\" \n",
    "df['Category'].replace('Bank', 'BANK', inplace= True)"
   ]
  },
  {
   "cell_type": "code",
   "execution_count": 8,
   "metadata": {},
   "outputs": [
    {
     "data": {
      "text/plain": [
       "array(['IT', 'FinTech', 'BANK', 'Manufacturing', 'Finance', 'FOOD',\n",
       "       'ELEC', 'LOGI'], dtype=object)"
      ]
     },
     "execution_count": 8,
     "metadata": {},
     "output_type": "execute_result"
    }
   ],
   "source": [
    "df['Category'].unique()"
   ]
  },
  {
   "attachments": {},
   "cell_type": "markdown",
   "metadata": {},
   "source": [
    "Company"
   ]
  },
  {
   "cell_type": "code",
   "execution_count": 9,
   "metadata": {},
   "outputs": [
    {
     "data": {
      "text/plain": [
       "array(['AAPL', 'MSFT', 'GOOG', 'PYPL', 'AIG', 'PCG', 'SHLDQ', 'MCD',\n",
       "       'BCS', 'NVDA', 'INTC', 'AMZN'], dtype=object)"
      ]
     },
     "execution_count": 9,
     "metadata": {},
     "output_type": "execute_result"
    }
   ],
   "source": [
    "df['Company '].unique() # Nome da coluna está com espaço, isso pode causar erros no futuro"
   ]
  },
  {
   "cell_type": "code",
   "execution_count": 10,
   "metadata": {},
   "outputs": [],
   "source": [
    "df.rename(columns={'Company ': 'Company'}, inplace=True) # Removendo o espaço no nome da coluna \"Company\""
   ]
  },
  {
   "cell_type": "code",
   "execution_count": 11,
   "metadata": {},
   "outputs": [
    {
     "data": {
      "text/html": [
       "<div>\n",
       "<style scoped>\n",
       "    .dataframe tbody tr th:only-of-type {\n",
       "        vertical-align: middle;\n",
       "    }\n",
       "\n",
       "    .dataframe tbody tr th {\n",
       "        vertical-align: top;\n",
       "    }\n",
       "\n",
       "    .dataframe thead th {\n",
       "        text-align: right;\n",
       "    }\n",
       "</style>\n",
       "<table border=\"1\" class=\"dataframe\">\n",
       "  <thead>\n",
       "    <tr style=\"text-align: right;\">\n",
       "      <th></th>\n",
       "      <th>Company</th>\n",
       "    </tr>\n",
       "  </thead>\n",
       "  <tbody>\n",
       "    <tr>\n",
       "      <th>0</th>\n",
       "      <td>AAPL</td>\n",
       "    </tr>\n",
       "  </tbody>\n",
       "</table>\n",
       "</div>"
      ],
      "text/plain": [
       "  Company\n",
       "0    AAPL"
      ]
     },
     "execution_count": 11,
     "metadata": {},
     "output_type": "execute_result"
    }
   ],
   "source": [
    "df[['Company']].head(1)"
   ]
  },
  {
   "attachments": {},
   "cell_type": "markdown",
   "metadata": {},
   "source": [
    "Renomeando algumas colunas"
   ]
  },
  {
   "cell_type": "code",
   "execution_count": 12,
   "metadata": {},
   "outputs": [],
   "source": [
    "nomes_novos = {\n",
    "    'Market Cap(in B USD)' :'Market Cap',\n",
    "    'Inflation Rate(in US)':'Inflation Rate'\n",
    "}\n",
    "df.rename(columns=nomes_novos, inplace=True)"
   ]
  },
  {
   "attachments": {},
   "cell_type": "markdown",
   "metadata": {},
   "source": [
    "#### 1.4 DataFrame para SQLite"
   ]
  },
  {
   "cell_type": "code",
   "execution_count": 13,
   "metadata": {},
   "outputs": [
    {
     "data": {
      "text/plain": [
       "160"
      ]
     },
     "execution_count": 13,
     "metadata": {},
     "output_type": "execute_result"
    }
   ],
   "source": [
    "# Conectando ao Database\n",
    "cnn = sqlite3.connect('FINANCIAL.db')\n",
    "\n",
    "# Movendo o Dataframe para SQL\n",
    "df.to_sql('df', cnn)"
   ]
  },
  {
   "cell_type": "code",
   "execution_count": 14,
   "metadata": {},
   "outputs": [],
   "source": [
    "# Carregando o módulo SQL e acessando o Database\n",
    "\n",
    "%load_ext sql\n",
    "%sql sqlite:///FINANCIAL.db"
   ]
  },
  {
   "attachments": {},
   "cell_type": "markdown",
   "metadata": {},
   "source": [
    "### 2. Análise dos Dados"
   ]
  },
  {
   "cell_type": "code",
   "execution_count": 15,
   "metadata": {},
   "outputs": [
    {
     "name": "stdout",
     "output_type": "stream",
     "text": [
      " * sqlite:///FINANCIAL.db\n",
      "Done.\n"
     ]
    },
    {
     "data": {
      "text/html": [
       "<table>\n",
       "    <thead>\n",
       "        <tr>\n",
       "            <th>index</th>\n",
       "            <th>Year</th>\n",
       "            <th>Company</th>\n",
       "            <th>Category</th>\n",
       "            <th>Market Cap</th>\n",
       "            <th>Revenue</th>\n",
       "            <th>Gross Profit</th>\n",
       "            <th>Net Income</th>\n",
       "            <th>Earning Per Share</th>\n",
       "            <th>EBITDA</th>\n",
       "            <th>Share Holder Equity</th>\n",
       "            <th>Cash Flow from Operating</th>\n",
       "            <th>Cash Flow from Investing</th>\n",
       "            <th>Cash Flow from Financial Activities</th>\n",
       "            <th>Current Ratio</th>\n",
       "            <th>Debt/Equity Ratio</th>\n",
       "            <th>ROE</th>\n",
       "            <th>ROA</th>\n",
       "            <th>ROI</th>\n",
       "            <th>Net Profit Margin</th>\n",
       "            <th>Free Cash Flow per Share</th>\n",
       "            <th>Return on Tangible Equity</th>\n",
       "            <th>Number of Employees</th>\n",
       "            <th>Inflation Rate</th>\n",
       "        </tr>\n",
       "    </thead>\n",
       "    <tbody>\n",
       "        <tr>\n",
       "            <td>0</td>\n",
       "            <td>2022</td>\n",
       "            <td>AAPL</td>\n",
       "            <td>IT</td>\n",
       "            <td>2066.94</td>\n",
       "            <td>394328.0</td>\n",
       "            <td>170782.0</td>\n",
       "            <td>99803.0</td>\n",
       "            <td>6.11</td>\n",
       "            <td>130541.0</td>\n",
       "            <td>50672.0</td>\n",
       "            <td>122151.0</td>\n",
       "            <td>-22354.0</td>\n",
       "            <td>-110749.0</td>\n",
       "            <td>0.8794</td>\n",
       "            <td>2.3695</td>\n",
       "            <td>196.9589</td>\n",
       "            <td>28.2924</td>\n",
       "            <td>66.6994</td>\n",
       "            <td>25.3096</td>\n",
       "            <td>1.3146</td>\n",
       "            <td>196.9589</td>\n",
       "            <td>164000</td>\n",
       "            <td>8.0028</td>\n",
       "        </tr>\n",
       "        <tr>\n",
       "            <td>1</td>\n",
       "            <td>2021</td>\n",
       "            <td>AAPL</td>\n",
       "            <td>IT</td>\n",
       "            <td>2913.28</td>\n",
       "            <td>365817.0</td>\n",
       "            <td>152836.0</td>\n",
       "            <td>94680.0</td>\n",
       "            <td>5.61</td>\n",
       "            <td>120233.0</td>\n",
       "            <td>63090.0</td>\n",
       "            <td>104038.0</td>\n",
       "            <td>-14545.0</td>\n",
       "            <td>-93353.0</td>\n",
       "            <td>1.0746</td>\n",
       "            <td>1.9768</td>\n",
       "            <td>150.0713</td>\n",
       "            <td>26.9742</td>\n",
       "            <td>54.9839</td>\n",
       "            <td>25.8818</td>\n",
       "            <td>1.3261</td>\n",
       "            <td>150.0713</td>\n",
       "            <td>154000</td>\n",
       "            <td>4.6979</td>\n",
       "        </tr>\n",
       "        <tr>\n",
       "            <td>2</td>\n",
       "            <td>2020</td>\n",
       "            <td>AAPL</td>\n",
       "            <td>IT</td>\n",
       "            <td>2255.97</td>\n",
       "            <td>274515.0</td>\n",
       "            <td>104956.0</td>\n",
       "            <td>57411.0</td>\n",
       "            <td>3.28</td>\n",
       "            <td>77344.0</td>\n",
       "            <td>65339.0</td>\n",
       "            <td>80674.0</td>\n",
       "            <td>-4289.0</td>\n",
       "            <td>-86820.0</td>\n",
       "            <td>1.3636</td>\n",
       "            <td>1.7208</td>\n",
       "            <td>87.8664</td>\n",
       "            <td>17.7256</td>\n",
       "            <td>35.0054</td>\n",
       "            <td>20.9136</td>\n",
       "            <td>1.0183</td>\n",
       "            <td>87.8664</td>\n",
       "            <td>147000</td>\n",
       "            <td>1.2336</td>\n",
       "        </tr>\n",
       "        <tr>\n",
       "            <td>3</td>\n",
       "            <td>2019</td>\n",
       "            <td>AAPL</td>\n",
       "            <td>IT</td>\n",
       "            <td>1304.76</td>\n",
       "            <td>260174.0</td>\n",
       "            <td>98392.0</td>\n",
       "            <td>55256.0</td>\n",
       "            <td>2.97</td>\n",
       "            <td>76477.0</td>\n",
       "            <td>90488.0</td>\n",
       "            <td>69391.0</td>\n",
       "            <td>45896.0</td>\n",
       "            <td>-90976.0</td>\n",
       "            <td>1.5401</td>\n",
       "            <td>1.194</td>\n",
       "            <td>61.0645</td>\n",
       "            <td>16.323</td>\n",
       "            <td>30.3113</td>\n",
       "            <td>21.2381</td>\n",
       "            <td>-0.0388</td>\n",
       "            <td>61.0645</td>\n",
       "            <td>137000</td>\n",
       "            <td>1.8122</td>\n",
       "        </tr>\n",
       "        <tr>\n",
       "            <td>4</td>\n",
       "            <td>2018</td>\n",
       "            <td>AAPL</td>\n",
       "            <td>IT</td>\n",
       "            <td>748.54</td>\n",
       "            <td>265595.0</td>\n",
       "            <td>101839.0</td>\n",
       "            <td>59531.0</td>\n",
       "            <td>2.98</td>\n",
       "            <td>81801.0</td>\n",
       "            <td>107147.0</td>\n",
       "            <td>77434.0</td>\n",
       "            <td>16066.0</td>\n",
       "            <td>-87876.0</td>\n",
       "            <td>1.1329</td>\n",
       "            <td>1.0685</td>\n",
       "            <td>55.5601</td>\n",
       "            <td>16.2775</td>\n",
       "            <td>29.6348</td>\n",
       "            <td>22.4142</td>\n",
       "            <td>0.7414</td>\n",
       "            <td>55.5601</td>\n",
       "            <td>132000</td>\n",
       "            <td>2.4426</td>\n",
       "        </tr>\n",
       "    </tbody>\n",
       "</table>"
      ],
      "text/plain": [
       "[(0, 2022, 'AAPL', 'IT', 2066.94, 394328.0, 170782.0, 99803.0, 6.11, 130541.0, 50672.0, 122151.0, -22354.0, -110749.0, 0.8794, 2.3695, 196.9589, 28.2924, 66.6994, 25.3096, 1.3146, 196.9589, 164000, 8.0028),\n",
       " (1, 2021, 'AAPL', 'IT', 2913.28, 365817.0, 152836.0, 94680.0, 5.61, 120233.0, 63090.0, 104038.0, -14545.0, -93353.0, 1.0746, 1.9768, 150.0713, 26.9742, 54.9839, 25.8818, 1.3261, 150.0713, 154000, 4.6979),\n",
       " (2, 2020, 'AAPL', 'IT', 2255.97, 274515.0, 104956.0, 57411.0, 3.28, 77344.0, 65339.0, 80674.0, -4289.0, -86820.0, 1.3636, 1.7208, 87.8664, 17.7256, 35.0054, 20.9136, 1.0183, 87.8664, 147000, 1.2336),\n",
       " (3, 2019, 'AAPL', 'IT', 1304.76, 260174.0, 98392.0, 55256.0, 2.97, 76477.0, 90488.0, 69391.0, 45896.0, -90976.0, 1.5401, 1.194, 61.0645, 16.323, 30.3113, 21.2381, -0.0388, 61.0645, 137000, 1.8122),\n",
       " (4, 2018, 'AAPL', 'IT', 748.54, 265595.0, 101839.0, 59531.0, 2.98, 81801.0, 107147.0, 77434.0, 16066.0, -87876.0, 1.1329, 1.0685, 55.5601, 16.2775, 29.6348, 22.4142, 0.7414, 55.5601, 132000, 2.4426)]"
      ]
     },
     "execution_count": 15,
     "metadata": {},
     "output_type": "execute_result"
    }
   ],
   "source": [
    "%%sql\n",
    "\n",
    "SELECT * FROM df\n",
    "LIMIT 5"
   ]
  },
  {
   "attachments": {},
   "cell_type": "markdown",
   "metadata": {},
   "source": [
    "#### 2.1 Qual é a Receita Média por categoria ?"
   ]
  },
  {
   "cell_type": "code",
   "execution_count": 16,
   "metadata": {},
   "outputs": [
    {
     "name": "stdout",
     "output_type": "stream",
     "text": [
      " * sqlite:///FINANCIAL.db\n",
      "Done.\n"
     ]
    },
    {
     "data": {
      "text/html": [
       "<table>\n",
       "    <thead>\n",
       "        <tr>\n",
       "            <th>Category</th>\n",
       "            <th>Receita Média</th>\n",
       "        </tr>\n",
       "    </thead>\n",
       "    <tbody>\n",
       "        <tr>\n",
       "            <td>LOGI</td>\n",
       "            <td>188247.0</td>\n",
       "        </tr>\n",
       "        <tr>\n",
       "            <td>IT</td>\n",
       "            <td>143951.0</td>\n",
       "        </tr>\n",
       "        <tr>\n",
       "            <td>BANK</td>\n",
       "            <td>47955.0</td>\n",
       "        </tr>\n",
       "        <tr>\n",
       "            <td>Finance</td>\n",
       "            <td>34559.0</td>\n",
       "        </tr>\n",
       "        <tr>\n",
       "            <td>ELEC</td>\n",
       "            <td>33695.0</td>\n",
       "        </tr>\n",
       "        <tr>\n",
       "            <td>FOOD</td>\n",
       "            <td>24145.0</td>\n",
       "        </tr>\n",
       "        <tr>\n",
       "            <td>FinTech</td>\n",
       "            <td>17594.0</td>\n",
       "        </tr>\n",
       "        <tr>\n",
       "            <td>Manufacturing</td>\n",
       "            <td>16874.0</td>\n",
       "        </tr>\n",
       "    </tbody>\n",
       "</table>"
      ],
      "text/plain": [
       "[('LOGI', 188247.0),\n",
       " ('IT', 143951.0),\n",
       " ('BANK', 47955.0),\n",
       " ('Finance', 34559.0),\n",
       " ('ELEC', 33695.0),\n",
       " ('FOOD', 24145.0),\n",
       " ('FinTech', 17594.0),\n",
       " ('Manufacturing', 16874.0)]"
      ]
     },
     "execution_count": 16,
     "metadata": {},
     "output_type": "execute_result"
    }
   ],
   "source": [
    "%%sql\n",
    "\n",
    "SELECT \n",
    "    Category,\n",
    "    ROUND(AVG(Revenue)) as [Receita Média]\n",
    "FROM df\n",
    "GROUP BY Category\n",
    "ORDER BY [Receita Média] DESC"
   ]
  },
  {
   "attachments": {},
   "cell_type": "markdown",
   "metadata": {},
   "source": [
    "#### 2.2 Quais são as cinco empresas tiveram o maior Market Cap em um ano ?"
   ]
  },
  {
   "cell_type": "code",
   "execution_count": 17,
   "metadata": {},
   "outputs": [
    {
     "name": "stdout",
     "output_type": "stream",
     "text": [
      " * sqlite:///FINANCIAL.db\n",
      "Done.\n"
     ]
    },
    {
     "data": {
      "text/html": [
       "<table>\n",
       "    <thead>\n",
       "        <tr>\n",
       "            <th>Year</th>\n",
       "            <th>Company</th>\n",
       "            <th>Market Cap</th>\n",
       "        </tr>\n",
       "    </thead>\n",
       "    <tbody>\n",
       "        <tr>\n",
       "            <td>2021</td>\n",
       "            <td>AAPL</td>\n",
       "            <td>2913.28</td>\n",
       "        </tr>\n",
       "        <tr>\n",
       "            <td>2021</td>\n",
       "            <td>MSFT</td>\n",
       "            <td>2525.08</td>\n",
       "        </tr>\n",
       "        <tr>\n",
       "            <td>2023</td>\n",
       "            <td>MSFT</td>\n",
       "            <td>2451.23</td>\n",
       "        </tr>\n",
       "        <tr>\n",
       "            <td>2020</td>\n",
       "            <td>AAPL</td>\n",
       "            <td>2255.97</td>\n",
       "        </tr>\n",
       "        <tr>\n",
       "            <td>2022</td>\n",
       "            <td>AAPL</td>\n",
       "            <td>2066.94</td>\n",
       "        </tr>\n",
       "    </tbody>\n",
       "</table>"
      ],
      "text/plain": [
       "[(2021, 'AAPL', 2913.28),\n",
       " (2021, 'MSFT', 2525.08),\n",
       " (2023, 'MSFT', 2451.23),\n",
       " (2020, 'AAPL', 2255.97),\n",
       " (2022, 'AAPL', 2066.94)]"
      ]
     },
     "execution_count": 17,
     "metadata": {},
     "output_type": "execute_result"
    }
   ],
   "source": [
    "%%sql\n",
    "\n",
    "SELECT\n",
    "    Year,\n",
    "    Company,\n",
    "    [Market Cap]\n",
    "FROM df\n",
    "GROUP BY Year, Company\n",
    "ORDER BY [Market Cap] DESC\n",
    "LIMIT 5\n"
   ]
  },
  {
   "attachments": {},
   "cell_type": "markdown",
   "metadata": {},
   "source": [
    "#### 2.3 Quais categorias de empresas têm a maior média de ROA (Retorno Sobre Ativos)?"
   ]
  },
  {
   "cell_type": "code",
   "execution_count": 18,
   "metadata": {},
   "outputs": [
    {
     "name": "stdout",
     "output_type": "stream",
     "text": [
      " * sqlite:///FINANCIAL.db\n",
      "Done.\n"
     ]
    },
    {
     "data": {
      "text/html": [
       "<table>\n",
       "    <thead>\n",
       "        <tr>\n",
       "            <th>Category</th>\n",
       "            <th>ROA</th>\n",
       "        </tr>\n",
       "    </thead>\n",
       "    <tbody>\n",
       "        <tr>\n",
       "            <td>IT</td>\n",
       "            <td>15.68</td>\n",
       "        </tr>\n",
       "        <tr>\n",
       "            <td>FOOD</td>\n",
       "            <td>14.3</td>\n",
       "        </tr>\n",
       "        <tr>\n",
       "            <td>ELEC</td>\n",
       "            <td>12.24</td>\n",
       "        </tr>\n",
       "        <tr>\n",
       "            <td>FinTech</td>\n",
       "            <td>4.62</td>\n",
       "        </tr>\n",
       "        <tr>\n",
       "            <td>LOGI</td>\n",
       "            <td>3.33</td>\n",
       "        </tr>\n",
       "        <tr>\n",
       "            <td>BANK</td>\n",
       "            <td>0.49</td>\n",
       "        </tr>\n",
       "        <tr>\n",
       "            <td>Manufacturing</td>\n",
       "            <td>0.05</td>\n",
       "        </tr>\n",
       "        <tr>\n",
       "            <td>Finance</td>\n",
       "            <td>-7.67</td>\n",
       "        </tr>\n",
       "    </tbody>\n",
       "</table>"
      ],
      "text/plain": [
       "[('IT', 15.68),\n",
       " ('FOOD', 14.3),\n",
       " ('ELEC', 12.24),\n",
       " ('FinTech', 4.62),\n",
       " ('LOGI', 3.33),\n",
       " ('BANK', 0.49),\n",
       " ('Manufacturing', 0.05),\n",
       " ('Finance', -7.67)]"
      ]
     },
     "execution_count": 18,
     "metadata": {},
     "output_type": "execute_result"
    }
   ],
   "source": [
    "%%sql\n",
    "\n",
    "SELECT \n",
    "    Category,\n",
    "    ROUND(AVG(ROA), 2) AS ROA\n",
    "FROM df\n",
    "GROUP BY Category\n",
    "ORDER BY ROA DESC"
   ]
  },
  {
   "attachments": {},
   "cell_type": "markdown",
   "metadata": {},
   "source": [
    "#### 2.4 Qual é a média do Lucro Líquido (Net Income) para todas as empresas?"
   ]
  },
  {
   "cell_type": "code",
   "execution_count": 19,
   "metadata": {},
   "outputs": [
    {
     "name": "stdout",
     "output_type": "stream",
     "text": [
      " * sqlite:///FINANCIAL.db\n",
      "Done.\n"
     ]
    },
    {
     "data": {
      "text/html": [
       "<table>\n",
       "    <thead>\n",
       "        <tr>\n",
       "            <th>Company</th>\n",
       "            <th>Lucro Liquido</th>\n",
       "        </tr>\n",
       "    </thead>\n",
       "    <tbody>\n",
       "        <tr>\n",
       "            <td>AAPL</td>\n",
       "            <td>48612.0</td>\n",
       "        </tr>\n",
       "        <tr>\n",
       "            <td>MSFT</td>\n",
       "            <td>32138.0</td>\n",
       "        </tr>\n",
       "        <tr>\n",
       "            <td>GOOG</td>\n",
       "            <td>25121.0</td>\n",
       "        </tr>\n",
       "        <tr>\n",
       "            <td>INTC</td>\n",
       "            <td>13095.0</td>\n",
       "        </tr>\n",
       "        <tr>\n",
       "            <td>AMZN</td>\n",
       "            <td>5880.0</td>\n",
       "        </tr>\n",
       "        <tr>\n",
       "            <td>MCD</td>\n",
       "            <td>5401.0</td>\n",
       "        </tr>\n",
       "        <tr>\n",
       "            <td>AIG</td>\n",
       "            <td>2991.0</td>\n",
       "        </tr>\n",
       "        <tr>\n",
       "            <td>BCS</td>\n",
       "            <td>2875.0</td>\n",
       "        </tr>\n",
       "        <tr>\n",
       "            <td>PYPL</td>\n",
       "            <td>2466.0</td>\n",
       "        </tr>\n",
       "        <tr>\n",
       "            <td>NVDA</td>\n",
       "            <td>2206.0</td>\n",
       "        </tr>\n",
       "        <tr>\n",
       "            <td>PCG</td>\n",
       "            <td>-285.0</td>\n",
       "        </tr>\n",
       "        <tr>\n",
       "            <td>SHLDQ</td>\n",
       "            <td>-1043.0</td>\n",
       "        </tr>\n",
       "    </tbody>\n",
       "</table>"
      ],
      "text/plain": [
       "[('AAPL', 48612.0),\n",
       " ('MSFT', 32138.0),\n",
       " ('GOOG', 25121.0),\n",
       " ('INTC', 13095.0),\n",
       " ('AMZN', 5880.0),\n",
       " ('MCD', 5401.0),\n",
       " ('AIG', 2991.0),\n",
       " ('BCS', 2875.0),\n",
       " ('PYPL', 2466.0),\n",
       " ('NVDA', 2206.0),\n",
       " ('PCG', -285.0),\n",
       " ('SHLDQ', -1043.0)]"
      ]
     },
     "execution_count": 19,
     "metadata": {},
     "output_type": "execute_result"
    }
   ],
   "source": [
    "%%sql\n",
    "\n",
    "SELECT\n",
    "    Company,\n",
    "    ROUND(AVG([Net Income])) AS [Lucro Liquido]\n",
    "FROM df\n",
    "GROUP BY Company\n",
    "ORDER BY [Lucro Liquido] DESC"
   ]
  },
  {
   "attachments": {},
   "cell_type": "markdown",
   "metadata": {},
   "source": [
    "#### 2.5 Quais são as cinco empresas com o maior EBITDA em um ano ?"
   ]
  },
  {
   "cell_type": "code",
   "execution_count": 20,
   "metadata": {},
   "outputs": [
    {
     "name": "stdout",
     "output_type": "stream",
     "text": [
      " * sqlite:///FINANCIAL.db\n",
      "Done.\n"
     ]
    },
    {
     "data": {
      "text/html": [
       "<table>\n",
       "    <thead>\n",
       "        <tr>\n",
       "            <th>Year</th>\n",
       "            <th>Company</th>\n",
       "            <th>EBITDA</th>\n",
       "        </tr>\n",
       "    </thead>\n",
       "    <tbody>\n",
       "        <tr>\n",
       "            <td>2022</td>\n",
       "            <td>AAPL</td>\n",
       "            <td>130541.0</td>\n",
       "        </tr>\n",
       "        <tr>\n",
       "            <td>2021</td>\n",
       "            <td>AAPL</td>\n",
       "            <td>120233.0</td>\n",
       "        </tr>\n",
       "        <tr>\n",
       "            <td>2023</td>\n",
       "            <td>MSFT</td>\n",
       "            <td>102384.0</td>\n",
       "        </tr>\n",
       "        <tr>\n",
       "            <td>2022</td>\n",
       "            <td>MSFT</td>\n",
       "            <td>97843.0</td>\n",
       "        </tr>\n",
       "        <tr>\n",
       "            <td>2021</td>\n",
       "            <td>GOOG</td>\n",
       "            <td>91155.0</td>\n",
       "        </tr>\n",
       "    </tbody>\n",
       "</table>"
      ],
      "text/plain": [
       "[(2022, 'AAPL', 130541.0),\n",
       " (2021, 'AAPL', 120233.0),\n",
       " (2023, 'MSFT', 102384.0),\n",
       " (2022, 'MSFT', 97843.0),\n",
       " (2021, 'GOOG', 91155.0)]"
      ]
     },
     "execution_count": 20,
     "metadata": {},
     "output_type": "execute_result"
    }
   ],
   "source": [
    "%%sql\n",
    "\n",
    "SELECT \n",
    "    Year,\n",
    "    Company,\n",
    "    EBITDA\n",
    "FROM df\n",
    "GROUP BY Year, Company\n",
    "ORDER BY EBITDA DESC\n",
    "LIMIT 5"
   ]
  },
  {
   "attachments": {},
   "cell_type": "markdown",
   "metadata": {},
   "source": [
    "#### 2.6 Quais são as cinco empresas que tiveram o maior aumento percentual no Market Cap de um ano para outro?"
   ]
  },
  {
   "cell_type": "code",
   "execution_count": 21,
   "metadata": {},
   "outputs": [
    {
     "name": "stdout",
     "output_type": "stream",
     "text": [
      " * sqlite:///FINANCIAL.db\n",
      "Done.\n"
     ]
    },
    {
     "data": {
      "text/html": [
       "<table>\n",
       "    <thead>\n",
       "        <tr>\n",
       "            <th>Year</th>\n",
       "            <th>Company</th>\n",
       "            <th>Market_Cap_Cresc</th>\n",
       "            <th>Porcentagem_Cresc</th>\n",
       "        </tr>\n",
       "    </thead>\n",
       "    <tbody>\n",
       "        <tr>\n",
       "            <td>2011</td>\n",
       "            <td>AIG</td>\n",
       "            <td>36.0</td>\n",
       "            <td>466.0</td>\n",
       "        </tr>\n",
       "        <tr>\n",
       "            <td>2019</td>\n",
       "            <td>PCG</td>\n",
       "            <td>19.0</td>\n",
       "            <td>330.0</td>\n",
       "        </tr>\n",
       "        <tr>\n",
       "            <td>2016</td>\n",
       "            <td>NVDA</td>\n",
       "            <td>40.0</td>\n",
       "            <td>224.0</td>\n",
       "        </tr>\n",
       "        <tr>\n",
       "            <td>2023</td>\n",
       "            <td>NVDA</td>\n",
       "            <td>641.0</td>\n",
       "            <td>178.0</td>\n",
       "        </tr>\n",
       "        <tr>\n",
       "            <td>2021</td>\n",
       "            <td>NVDA</td>\n",
       "            <td>413.0</td>\n",
       "            <td>128.0</td>\n",
       "        </tr>\n",
       "    </tbody>\n",
       "</table>"
      ],
      "text/plain": [
       "[(2011, 'AIG', 36.0, 466.0),\n",
       " (2019, 'PCG', 19.0, 330.0),\n",
       " (2016, 'NVDA', 40.0, 224.0),\n",
       " (2023, 'NVDA', 641.0, 178.0),\n",
       " (2021, 'NVDA', 413.0, 128.0)]"
      ]
     },
     "execution_count": 21,
     "metadata": {},
     "output_type": "execute_result"
    }
   ],
   "source": [
    "%%sql\n",
    "\n",
    "SELECT \n",
    "    Year,\n",
    "    Company,\n",
    "    ROUND(([Market Cap] - LAG([Market Cap]) OVER(PARTITION BY Company ORDER BY Year))) AS Market_Cap_Cresc,\n",
    "    ROUND((([Market Cap] - LAG([Market Cap]) OVER(PARTITION BY Company ORDER BY Year)) / lag([Market Cap]) OVER (PARTITION BY Company ORDER BY Year)) * 100) AS Porcentagem_Cresc\n",
    "FROM df\n",
    "ORDER BY Porcentagem_Cresc DESC\n",
    "LIMIT 5"
   ]
  },
  {
   "attachments": {},
   "cell_type": "markdown",
   "metadata": {},
   "source": [
    "#### 2.7 Quais são as 10 empresas que tiveram maior margem de lucro líquido em um ano ?"
   ]
  },
  {
   "cell_type": "code",
   "execution_count": 22,
   "metadata": {},
   "outputs": [
    {
     "name": "stdout",
     "output_type": "stream",
     "text": [
      " * sqlite:///FINANCIAL.db\n",
      "Done.\n"
     ]
    },
    {
     "data": {
      "text/html": [
       "<table>\n",
       "    <thead>\n",
       "        <tr>\n",
       "            <th>Year</th>\n",
       "            <th>Company</th>\n",
       "            <th>Net Profit Margin</th>\n",
       "        </tr>\n",
       "    </thead>\n",
       "    <tbody>\n",
       "        <tr>\n",
       "            <td>2022</td>\n",
       "            <td>MSFT</td>\n",
       "            <td>36.6863</td>\n",
       "        </tr>\n",
       "        <tr>\n",
       "            <td>2021</td>\n",
       "            <td>MSFT</td>\n",
       "            <td>36.4517</td>\n",
       "        </tr>\n",
       "        <tr>\n",
       "            <td>2022</td>\n",
       "            <td>NVDA</td>\n",
       "            <td>36.2339</td>\n",
       "        </tr>\n",
       "        <tr>\n",
       "            <td>2019</td>\n",
       "            <td>NVDA</td>\n",
       "            <td>35.3448</td>\n",
       "        </tr>\n",
       "        <tr>\n",
       "            <td>2023</td>\n",
       "            <td>MSFT</td>\n",
       "            <td>34.1462</td>\n",
       "        </tr>\n",
       "        <tr>\n",
       "            <td>2011</td>\n",
       "            <td>MSFT</td>\n",
       "            <td>33.0984</td>\n",
       "        </tr>\n",
       "        <tr>\n",
       "            <td>2021</td>\n",
       "            <td>MCD</td>\n",
       "            <td>32.4903</td>\n",
       "        </tr>\n",
       "        <tr>\n",
       "            <td>2018</td>\n",
       "            <td>NVDA</td>\n",
       "            <td>31.3671</td>\n",
       "        </tr>\n",
       "        <tr>\n",
       "            <td>2019</td>\n",
       "            <td>MSFT</td>\n",
       "            <td>31.1817</td>\n",
       "        </tr>\n",
       "        <tr>\n",
       "            <td>2020</td>\n",
       "            <td>MSFT</td>\n",
       "            <td>30.9625</td>\n",
       "        </tr>\n",
       "    </tbody>\n",
       "</table>"
      ],
      "text/plain": [
       "[(2022, 'MSFT', 36.6863),\n",
       " (2021, 'MSFT', 36.4517),\n",
       " (2022, 'NVDA', 36.2339),\n",
       " (2019, 'NVDA', 35.3448),\n",
       " (2023, 'MSFT', 34.1462),\n",
       " (2011, 'MSFT', 33.0984),\n",
       " (2021, 'MCD', 32.4903),\n",
       " (2018, 'NVDA', 31.3671),\n",
       " (2019, 'MSFT', 31.1817),\n",
       " (2020, 'MSFT', 30.9625)]"
      ]
     },
     "execution_count": 22,
     "metadata": {},
     "output_type": "execute_result"
    }
   ],
   "source": [
    "%%sql\n",
    "\n",
    "SELECT\n",
    "    Year,\n",
    "    Company,\n",
    "    [Net Profit Margin]\n",
    "FROM df\n",
    "WHERE [Net Profit Margin] > 20.0\n",
    "GROUP BY Year, Company\n",
    "ORDER BY [Net Profit Margin] DESC \n",
    "LIMIT 10\n"
   ]
  }
 ],
 "metadata": {
  "kernelspec": {
   "display_name": "Python 3",
   "language": "python",
   "name": "python3"
  },
  "language_info": {
   "codemirror_mode": {
    "name": "ipython",
    "version": 3
   },
   "file_extension": ".py",
   "mimetype": "text/x-python",
   "name": "python",
   "nbconvert_exporter": "python",
   "pygments_lexer": "ipython3",
   "version": "3.11.3"
  },
  "orig_nbformat": 4
 },
 "nbformat": 4,
 "nbformat_minor": 2
}
